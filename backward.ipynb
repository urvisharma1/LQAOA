{
 "cells": [
  {
   "cell_type": "code",
   "execution_count": 1,
   "metadata": {},
   "outputs": [
    {
     "name": "stdout",
     "output_type": "stream",
     "text": [
      "Collecting pennylane\n",
      "  Downloading PennyLane-0.36.0-py3-none-any.whl.metadata (9.2 kB)\n",
      "Requirement already satisfied: numpy<2.0 in /home/codespace/.local/lib/python3.10/site-packages (from pennylane) (1.26.4)\n",
      "Requirement already satisfied: scipy in /home/codespace/.local/lib/python3.10/site-packages (from pennylane) (1.13.1)\n",
      "Requirement already satisfied: networkx in /home/codespace/.local/lib/python3.10/site-packages (from pennylane) (3.3)\n",
      "Collecting rustworkx (from pennylane)\n",
      "  Downloading rustworkx-0.15.1-cp38-abi3-manylinux_2_17_x86_64.manylinux2014_x86_64.whl.metadata (9.9 kB)\n",
      "Collecting autograd (from pennylane)\n",
      "  Downloading autograd-1.6.2-py3-none-any.whl.metadata (706 bytes)\n",
      "Collecting toml (from pennylane)\n",
      "  Downloading toml-0.10.2-py2.py3-none-any.whl.metadata (7.1 kB)\n",
      "Collecting appdirs (from pennylane)\n",
      "  Downloading appdirs-1.4.4-py2.py3-none-any.whl.metadata (9.0 kB)\n",
      "Collecting semantic-version>=2.7 (from pennylane)\n",
      "  Downloading semantic_version-2.10.0-py2.py3-none-any.whl.metadata (9.7 kB)\n",
      "Collecting autoray>=0.6.1 (from pennylane)\n",
      "  Downloading autoray-0.6.12-py3-none-any.whl.metadata (5.7 kB)\n",
      "Collecting cachetools (from pennylane)\n",
      "  Downloading cachetools-5.3.3-py3-none-any.whl.metadata (5.3 kB)\n",
      "Collecting pennylane-lightning>=0.36 (from pennylane)\n",
      "  Downloading PennyLane_Lightning-0.36.0-cp310-cp310-manylinux_2_17_x86_64.manylinux2014_x86_64.whl.metadata (21 kB)\n",
      "Requirement already satisfied: requests in /home/codespace/.local/lib/python3.10/site-packages (from pennylane) (2.32.3)\n",
      "Requirement already satisfied: typing-extensions in /home/codespace/.local/lib/python3.10/site-packages (from pennylane) (4.12.0)\n",
      "Collecting future>=0.15.2 (from autograd->pennylane)\n",
      "  Downloading future-1.0.0-py3-none-any.whl.metadata (4.0 kB)\n",
      "Requirement already satisfied: charset-normalizer<4,>=2 in /home/codespace/.local/lib/python3.10/site-packages (from requests->pennylane) (3.3.2)\n",
      "Requirement already satisfied: idna<4,>=2.5 in /home/codespace/.local/lib/python3.10/site-packages (from requests->pennylane) (3.7)\n",
      "Requirement already satisfied: urllib3<3,>=1.21.1 in /usr/local/python/3.10.13/lib/python3.10/site-packages (from requests->pennylane) (2.0.7)\n",
      "Requirement already satisfied: certifi>=2017.4.17 in /home/codespace/.local/lib/python3.10/site-packages (from requests->pennylane) (2024.2.2)\n",
      "Downloading PennyLane-0.36.0-py3-none-any.whl (1.7 MB)\n",
      "\u001b[2K   \u001b[90m━━━━━━━━━━━━━━━━━━━━━━━━━━━━━━━━━━━━━━━━\u001b[0m \u001b[32m1.7/1.7 MB\u001b[0m \u001b[31m25.7 MB/s\u001b[0m eta \u001b[36m0:00:00\u001b[0m00:01\u001b[0m\n",
      "\u001b[?25hDownloading autoray-0.6.12-py3-none-any.whl (50 kB)\n",
      "\u001b[2K   \u001b[90m━━━━━━━━━━━━━━━━━━━━━━━━━━━━━━━━━━━━━━━━\u001b[0m \u001b[32m51.0/51.0 kB\u001b[0m \u001b[31m1.5 MB/s\u001b[0m eta \u001b[36m0:00:00\u001b[0m\n",
      "\u001b[?25hDownloading PennyLane_Lightning-0.36.0-cp310-cp310-manylinux_2_17_x86_64.manylinux2014_x86_64.whl (19.1 MB)\n",
      "\u001b[2K   \u001b[90m━━━━━━━━━━━━━━━━━━━━━━━━━━━━━━━━━━━━━━━━\u001b[0m \u001b[32m19.1/19.1 MB\u001b[0m \u001b[31m27.5 MB/s\u001b[0m eta \u001b[36m0:00:00\u001b[0m00:01\u001b[0m00:01\u001b[0m\n",
      "\u001b[?25hDownloading semantic_version-2.10.0-py2.py3-none-any.whl (15 kB)\n",
      "Downloading appdirs-1.4.4-py2.py3-none-any.whl (9.6 kB)\n",
      "Downloading autograd-1.6.2-py3-none-any.whl (49 kB)\n",
      "\u001b[2K   \u001b[90m━━━━━━━━━━━━━━━━━━━━━━━━━━━━━━━━━━━━━━━━\u001b[0m \u001b[32m49.3/49.3 kB\u001b[0m \u001b[31m1.5 MB/s\u001b[0m eta \u001b[36m0:00:00\u001b[0m\n",
      "\u001b[?25hDownloading cachetools-5.3.3-py3-none-any.whl (9.3 kB)\n",
      "Downloading rustworkx-0.15.1-cp38-abi3-manylinux_2_17_x86_64.manylinux2014_x86_64.whl (2.0 MB)\n",
      "\u001b[2K   \u001b[90m━━━━━━━━━━━━━━━━━━━━━━━━━━━━━━━━━━━━━━━━\u001b[0m \u001b[32m2.0/2.0 MB\u001b[0m \u001b[31m31.6 MB/s\u001b[0m eta \u001b[36m0:00:00\u001b[0m:00:01\u001b[0m\n",
      "\u001b[?25hDownloading toml-0.10.2-py2.py3-none-any.whl (16 kB)\n",
      "Downloading future-1.0.0-py3-none-any.whl (491 kB)\n",
      "\u001b[2K   \u001b[90m━━━━━━━━━━━━━━━━━━━━━━━━━━━━━━━━━━━━━━━━\u001b[0m \u001b[32m491.3/491.3 kB\u001b[0m \u001b[31m14.8 MB/s\u001b[0m eta \u001b[36m0:00:00\u001b[0m\n",
      "\u001b[?25hInstalling collected packages: appdirs, toml, semantic-version, rustworkx, future, cachetools, autoray, autograd, pennylane-lightning, pennylane\n",
      "Successfully installed appdirs-1.4.4 autograd-1.6.2 autoray-0.6.12 cachetools-5.3.3 future-1.0.0 pennylane-0.36.0 pennylane-lightning-0.36.0 rustworkx-0.15.1 semantic-version-2.10.0 toml-0.10.2\n"
     ]
    },
    {
     "name": "stderr",
     "output_type": "stream",
     "text": [
      "\n",
      "\u001b[1m[\u001b[0m\u001b[34;49mnotice\u001b[0m\u001b[1;39;49m]\u001b[0m\u001b[39;49m A new release of pip is available: \u001b[0m\u001b[31;49m24.0\u001b[0m\u001b[39;49m -> \u001b[0m\u001b[32;49m24.1.1\u001b[0m\n",
      "\u001b[1m[\u001b[0m\u001b[34;49mnotice\u001b[0m\u001b[1;39;49m]\u001b[0m\u001b[39;49m To update, run: \u001b[0m\u001b[32;49mpython3 -m pip install --upgrade pip\u001b[0m\n"
     ]
    },
    {
     "name": "stdout",
     "output_type": "stream",
     "text": [
      "Requirement already satisfied: networkx in /home/codespace/.local/lib/python3.10/site-packages (3.3)\n"
     ]
    },
    {
     "name": "stderr",
     "output_type": "stream",
     "text": [
      "\n",
      "\u001b[1m[\u001b[0m\u001b[34;49mnotice\u001b[0m\u001b[1;39;49m]\u001b[0m\u001b[39;49m A new release of pip is available: \u001b[0m\u001b[31;49m24.0\u001b[0m\u001b[39;49m -> \u001b[0m\u001b[32;49m24.1.1\u001b[0m\n",
      "\u001b[1m[\u001b[0m\u001b[34;49mnotice\u001b[0m\u001b[1;39;49m]\u001b[0m\u001b[39;49m To update, run: \u001b[0m\u001b[32;49mpython3 -m pip install --upgrade pip\u001b[0m\n"
     ]
    },
    {
     "name": "stdout",
     "output_type": "stream",
     "text": [
      "Collecting pennylane-qulacs\n",
      "  Downloading pennylane_qulacs-0.36.0-py3-none-any.whl.metadata (8.4 kB)\n",
      "Requirement already satisfied: pennylane>=0.15 in /usr/local/python/3.10.13/lib/python3.10/site-packages (from pennylane-qulacs) (0.36.0)\n",
      "Requirement already satisfied: numpy in /home/codespace/.local/lib/python3.10/site-packages (from pennylane-qulacs) (1.26.4)\n",
      "Requirement already satisfied: scipy in /home/codespace/.local/lib/python3.10/site-packages (from pennylane-qulacs) (1.13.1)\n",
      "Requirement already satisfied: networkx in /home/codespace/.local/lib/python3.10/site-packages (from pennylane>=0.15->pennylane-qulacs) (3.3)\n",
      "Requirement already satisfied: rustworkx in /usr/local/python/3.10.13/lib/python3.10/site-packages (from pennylane>=0.15->pennylane-qulacs) (0.15.1)\n",
      "Requirement already satisfied: autograd in /usr/local/python/3.10.13/lib/python3.10/site-packages (from pennylane>=0.15->pennylane-qulacs) (1.6.2)\n",
      "Requirement already satisfied: toml in /usr/local/python/3.10.13/lib/python3.10/site-packages (from pennylane>=0.15->pennylane-qulacs) (0.10.2)\n",
      "Requirement already satisfied: appdirs in /usr/local/python/3.10.13/lib/python3.10/site-packages (from pennylane>=0.15->pennylane-qulacs) (1.4.4)\n",
      "Requirement already satisfied: semantic-version>=2.7 in /usr/local/python/3.10.13/lib/python3.10/site-packages (from pennylane>=0.15->pennylane-qulacs) (2.10.0)\n",
      "Requirement already satisfied: autoray>=0.6.1 in /usr/local/python/3.10.13/lib/python3.10/site-packages (from pennylane>=0.15->pennylane-qulacs) (0.6.12)\n",
      "Requirement already satisfied: cachetools in /usr/local/python/3.10.13/lib/python3.10/site-packages (from pennylane>=0.15->pennylane-qulacs) (5.3.3)\n",
      "Requirement already satisfied: pennylane-lightning>=0.36 in /usr/local/python/3.10.13/lib/python3.10/site-packages (from pennylane>=0.15->pennylane-qulacs) (0.36.0)\n",
      "Requirement already satisfied: requests in /home/codespace/.local/lib/python3.10/site-packages (from pennylane>=0.15->pennylane-qulacs) (2.32.3)\n",
      "Requirement already satisfied: typing-extensions in /home/codespace/.local/lib/python3.10/site-packages (from pennylane>=0.15->pennylane-qulacs) (4.12.0)\n",
      "Requirement already satisfied: future>=0.15.2 in /usr/local/python/3.10.13/lib/python3.10/site-packages (from autograd->pennylane>=0.15->pennylane-qulacs) (1.0.0)\n",
      "Requirement already satisfied: charset-normalizer<4,>=2 in /home/codespace/.local/lib/python3.10/site-packages (from requests->pennylane>=0.15->pennylane-qulacs) (3.3.2)\n",
      "Requirement already satisfied: idna<4,>=2.5 in /home/codespace/.local/lib/python3.10/site-packages (from requests->pennylane>=0.15->pennylane-qulacs) (3.7)\n",
      "Requirement already satisfied: urllib3<3,>=1.21.1 in /usr/local/python/3.10.13/lib/python3.10/site-packages (from requests->pennylane>=0.15->pennylane-qulacs) (2.0.7)\n",
      "Requirement already satisfied: certifi>=2017.4.17 in /home/codespace/.local/lib/python3.10/site-packages (from requests->pennylane>=0.15->pennylane-qulacs) (2024.2.2)\n",
      "Downloading pennylane_qulacs-0.36.0-py3-none-any.whl (13 kB)\n",
      "Installing collected packages: pennylane-qulacs\n",
      "Successfully installed pennylane-qulacs-0.36.0\n"
     ]
    },
    {
     "name": "stderr",
     "output_type": "stream",
     "text": [
      "\n",
      "\u001b[1m[\u001b[0m\u001b[34;49mnotice\u001b[0m\u001b[1;39;49m]\u001b[0m\u001b[39;49m A new release of pip is available: \u001b[0m\u001b[31;49m24.0\u001b[0m\u001b[39;49m -> \u001b[0m\u001b[32;49m24.1.1\u001b[0m\n",
      "\u001b[1m[\u001b[0m\u001b[34;49mnotice\u001b[0m\u001b[1;39;49m]\u001b[0m\u001b[39;49m To update, run: \u001b[0m\u001b[32;49mpython3 -m pip install --upgrade pip\u001b[0m\n"
     ]
    },
    {
     "name": "stdout",
     "output_type": "stream",
     "text": [
      "Collecting qulacs\n",
      "  Downloading qulacs-0.6.4.1-cp310-cp310-manylinux_2_17_x86_64.manylinux2014_x86_64.whl.metadata (14 kB)\n",
      "Requirement already satisfied: numpy in /home/codespace/.local/lib/python3.10/site-packages (from qulacs) (1.26.4)\n",
      "Requirement already satisfied: scipy in /home/codespace/.local/lib/python3.10/site-packages (from qulacs) (1.13.1)\n",
      "Downloading qulacs-0.6.4.1-cp310-cp310-manylinux_2_17_x86_64.manylinux2014_x86_64.whl (944 kB)\n",
      "\u001b[2K   \u001b[90m━━━━━━━━━━━━━━━━━━━━━━━━━━━━━━━━━━━━━━━━\u001b[0m \u001b[32m944.4/944.4 kB\u001b[0m \u001b[31m16.8 MB/s\u001b[0m eta \u001b[36m0:00:00\u001b[0m00:01\u001b[0m\n",
      "\u001b[?25hInstalling collected packages: qulacs\n",
      "Successfully installed qulacs-0.6.4.1\n"
     ]
    },
    {
     "name": "stderr",
     "output_type": "stream",
     "text": [
      "\n",
      "\u001b[1m[\u001b[0m\u001b[34;49mnotice\u001b[0m\u001b[1;39;49m]\u001b[0m\u001b[39;49m A new release of pip is available: \u001b[0m\u001b[31;49m24.0\u001b[0m\u001b[39;49m -> \u001b[0m\u001b[32;49m24.1.1\u001b[0m\n",
      "\u001b[1m[\u001b[0m\u001b[34;49mnotice\u001b[0m\u001b[1;39;49m]\u001b[0m\u001b[39;49m To update, run: \u001b[0m\u001b[32;49mpython3 -m pip install --upgrade pip\u001b[0m\n"
     ]
    }
   ],
   "source": [
    "import subprocess\n",
    "packages = [\"pennylane\", \"networkx\", \"pennylane-qulacs\", \"qulacs\"]\n",
    "for package in packages:\n",
    "    subprocess.run([\"pip\", \"install\", package])\n",
    "import pennylane as qml\n",
    "from pennylane import qaoa\n",
    "from pennylane import numpy as np\n",
    "from matplotlib import pyplot as plt\n",
    "import networkx as nx\n",
    "import torch\n",
    "from scipy.linalg import expm\n",
    "from itertools import combinations"
   ]
  },
  {
   "cell_type": "code",
   "execution_count": 3,
   "metadata": {},
   "outputs": [
    {
     "name": "stdout",
     "output_type": "stream",
     "text": [
      "Cost Hamiltonian 0.5 * (Z(0) @ Z(1)) + 0.5 * (Z(0) @ Z(3)) + 0.5 * (Z(1) @ Z(2)) + 0.5 * (Z(2) @ Z(3)) + -0.5 * (I(0) @ I(1)) + -0.5 * (I(0) @ I(3)) + -0.5 * (I(1) @ I(2)) + -0.5 * (I(2) @ I(3))\n",
      "Mixer Hamiltonian 1 * X(0) + 1 * X(1) + 1 * X(2) + 1 * X(3)\n"
     ]
    },
    {
     "data": {
      "image/png": "[encoded data removed]",
      "text/plain": [
       "<Figure size 640x480 with 1 Axes>"
      ]
     },
     "metadata": {},
     "output_type": "display_data"
    }
   ],
   "source": [
    "# @title QAOA\n",
    "#Hamiltonian Maxcut\n",
    "n = 4 #Nodes\n",
    "n_qubits=n\n",
    "wires=range(n_qubits)\n",
    "edges = [(i, (i+1)%n) for i in range(n)]\n",
    "\n",
    "weights = [1] * n\n",
    "\n",
    "\n",
    "#Graph\n",
    "graph=nx.Graph(edges)\n",
    "\n",
    "nx.draw(graph,with_labels=True)\n",
    "\n",
    "#QAOA cost and mixer hamiltonian using maxcut as baseline\n",
    "cost_h, mixer_h = qaoa.cost.maxcut(graph)\n",
    "\n",
    "print(\"Cost Hamiltonian\", cost_h)\n",
    "print(\"Mixer Hamiltonian\", mixer_h)"
   ]
  },
  {
   "cell_type": "code",
   "execution_count": 4,
   "metadata": {},
   "outputs": [],
   "source": [
    "# @title Circuit\n",
    "#variational circuit\n",
    "def qaoa_layer(gamma, alpha):\n",
    "  qaoa.cost_layer(gamma, cost_h)\n",
    "  qaoa.mixer_layer(alpha, mixer_h)\n",
    "\n",
    "depth = 4\n",
    "\n",
    "def circuit(params, **kwargs):\n",
    "    for w in wires:\n",
    "        qml.Hadamard(wires=w)\n",
    "    qml.layer(qaoa_layer, depth, params[:,0], params[:,1])\n",
    "\n",
    "def cost_function(params):\n",
    "  circuit(params)\n",
    "\n",
    "qaoa_dev = qml.device(\"qulacs.simulator\", wires=wires)\n",
    "#The alt_cost function is the expectation value of cost_h which we want to minimize.\n",
    "@qml.qnode(qaoa_dev)\n",
    "def alt_cost(params):\n",
    "  cost_function(params)\n",
    "  return qml.expval(cost_h)\n",
    "\n",
    "@qml.qnode(qaoa_dev)\n",
    "def alt_probs(params):\n",
    "  cost_function(params)\n",
    "  return qml.probs()"
   ]
  },
  {
   "cell_type": "code",
   "execution_count": 5,
   "metadata": {},
   "outputs": [
    {
     "name": "stdout",
     "output_type": "stream",
     "text": [
      "opt0 [[3.47720778 2.88561347]\n",
      " [1.4448908  0.43735581]\n",
      " [4.17579387 0.15172287]\n",
      " [1.31991792 5.96926165]] \n",
      "\n"
     ]
    }
   ],
   "source": [
    "# @title backward? training\n",
    "\n",
    "optimizer = qml.GradientDescentOptimizer(0.01)\n",
    "steps = 100\n",
    "params = np.array(np.random.uniform(0, 2*np.pi, size=(depth, 2)),requires_grad=True)\n",
    "\n",
    "# optimize parameters\n",
    "def optimize_params_b(params, steps):\n",
    "  params = params.copy()\n",
    "  for i in range(steps):\n",
    "    params = optimizer.step(alt_cost, params)\n",
    "  return params\n",
    "\n",
    "# Each layer's parameters are optimized based on the previous layer's improved values.\n",
    "for j in range(0,depth):\n",
    "  #initparams to optimize the next layer\n",
    "  # Update the next layer with the optimized parameters from the init layer\n",
    "  if j==0:\n",
    "    params[j] = optimize_params_b(params, steps)[j]\n",
    "    print(f\"opt{j}\", params, \"\\n\")\n",
    "  elif j!=0 and j < depth+1 :\n",
    "    params[j]=params[j-1]\n",
    "    params[j] = optimize_params_b(params, steps)[j]/2\n",
    "    print(f\"opt{j}\", params, \"\\n\")\n",
    "#  print(\"param each\", optimized_params[j-1], '\\n\\n')\n",
    "\n",
    "print(\"params:\\n\", params)"
   ]
  },
  {
   "cell_type": "code",
   "execution_count": null,
   "metadata": {},
   "outputs": [],
   "source": [
    "print(\"Optimal Parameters\")\n",
    "print(params)\n",
    "print(\"Cost\\n\",alt_cost(params))\n",
    "print(\"probs\\n\",alt_probs(params))\n",
    "plt.bar(range(2**n_qubits),alt_probs(params).flatten())\n",
    "plt.show()"
   ]
  }
 ],
 "metadata": {
  "kernelspec": {
   "display_name": "Python 3",
   "language": "python",
   "name": "python3"
  },
  "language_info": {
   "codemirror_mode": {
    "name": "ipython",
    "version": 3
   },
   "file_extension": ".py",
   "mimetype": "text/x-python",
   "name": "python",
   "nbconvert_exporter": "python",
   "pygments_lexer": "ipython3",
   "version": "3.10.13"
  }
 },
 "nbformat": 4,
 "nbformat_minor": 2
}
